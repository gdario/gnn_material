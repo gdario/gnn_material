{
 "cells": [
  {
   "cell_type": "markdown",
   "id": "apart-ireland",
   "metadata": {
    "heading_collapsed": true,
    "slideshow": {
     "slide_type": "slide"
    }
   },
   "source": [
    "# A (Very) Basic Introduction to Graph Learning\n",
    "\n",
    "2021-01-XX\n",
    "\n",
    "Giovanni d'Ario"
   ]
  },
  {
   "cell_type": "code",
   "execution_count": 4,
   "id": "organized-spiritual",
   "metadata": {
    "hidden": true
   },
   "outputs": [],
   "source": [
    "import itertools\n",
    "import matplotlib.pyplot as plt\n",
    "import networkx as nx\n",
    "from networkx.utils import pairwise\n",
    "\n",
    "def hide_code_in_slideshow():   \n",
    "    from IPython import display\n",
    "    import binascii\n",
    "    import os\n",
    "    uid = binascii.hexlify(os.urandom(8)).decode()    \n",
    "    html = \"\"\"<div id=\"%s\"></div>\n",
    "    <script type=\"text/javascript\">\n",
    "        $(function(){\n",
    "            var p = $(\"#%s\");\n",
    "            if (p.length==0) return;\n",
    "            while (!p.hasClass(\"cell\")) {\n",
    "                p=p.parent();\n",
    "                if (p.prop(\"tagName\") ==\"body\") return;\n",
    "            }\n",
    "            var cell = p;\n",
    "            cell.find(\".input\").addClass(\"hide-in-slideshow\")\n",
    "        });\n",
    "    </script>\"\"\" % (uid, uid)\n",
    "    display.display_html(html, raw=True)\n",
    "    \n",
    "def multilayered_graph(*subset_sizes):\n",
    "    extents = pairwise(itertools.accumulate((0,) + subset_sizes))\n",
    "    layers = [range(start, end) for start, end in extents]\n",
    "    G = nx.Graph()\n",
    "    for (i, layer) in enumerate(layers):\n",
    "        G.add_nodes_from(layer, layer=i)\n",
    "    for layer1, layer2 in pairwise(layers):\n",
    "        G.add_edges_from(itertools.product(layer1, layer2))\n",
    "    return G"
   ]
  },
  {
   "cell_type": "markdown",
   "id": "residential-windows",
   "metadata": {
    "slideshow": {
     "slide_type": "slide"
    }
   },
   "source": [
    "# Contents\n",
    "\n",
    "- Basic definitions\n",
    "- PUT HERE AN INTRO TO THE BASIC IDEAS OF MESSAGE PASSING\n",
    "- Bronstein’s “Deep Learning on Graphs: successes, challenges etc”\n",
    "- Bronstein’s Expressive power of GNNs"
   ]
  },
  {
   "cell_type": "markdown",
   "id": "expensive-berlin",
   "metadata": {
    "slideshow": {
     "slide_type": "slide"
    }
   },
   "source": [
    "# Basic Definitions\n",
    "\n",
    "Formally a graph is defined by a set of nodes $\\mathcal{V}$ and a set of edges $\\mathcal{E}$ between these nodes. Given two nodes $u, v \\in \\mathcal{V}$ we denote the dge gong from node $u \\in \\mathcal{V}$ to node $v \\in \\mathcal{V}$ as $(u, v) \\in \\mathcal{E}$."
   ]
  },
  {
   "cell_type": "markdown",
   "id": "mexican-smooth",
   "metadata": {},
   "source": [
    "A first basic distinction is between *undirected* and *directed* graphs.\n"
   ]
  },
  {
   "cell_type": "code",
   "execution_count": 6,
   "id": "hazardous-speech",
   "metadata": {
    "code_folding": [
     11,
     22
    ]
   },
   "outputs": [
    {
     "data": {
      "image/png": "[encoded data removed]",
      "text/plain": [
       "<Figure size 432x288 with 2 Axes>"
      ]
     },
     "metadata": {
      "needs_background": "light"
     },
     "output_type": "display_data"
    }
   ],
   "source": [
    "import matplotlib as mpl\n",
    "\n",
    "G = nx.generators.directed.random_k_out_graph(10, 3, 0.5)\n",
    "pos = nx.layout.spring_layout(G)\n",
    "\n",
    "node_sizes = [3 + 10 * i for i in range(len(G))]\n",
    "M = G.number_of_edges()\n",
    "edge_colors = range(2, M + 2)\n",
    "edge_alphas = [(5 + i) / (M + 4) for i in range(M)]\n",
    "\n",
    "nodes = nx.draw_networkx_nodes(G, pos, node_size=node_sizes, node_color=\"blue\")\n",
    "edges = nx.draw_networkx_edges(\n",
    "    G,\n",
    "    pos,\n",
    "    node_size=node_sizes,\n",
    "    arrowstyle=\"->\",\n",
    "    arrowsize=10,\n",
    "    edge_color=edge_colors,\n",
    "    edge_cmap=plt.cm.Blues,\n",
    "    width=2,\n",
    ")\n",
    "# set alpha value for each edge\n",
    "for i in range(M):\n",
    "    edges[i].set_alpha(edge_alphas[i])\n",
    "\n",
    "pc = mpl.collections.PatchCollection(edges, cmap=plt.cm.Blues)\n",
    "pc.set_array(edge_colors)\n",
    "plt.colorbar(pc)\n",
    "ax = plt.gca()\n",
    "ax.set_axis_off()"
   ]
  },
  {
   "cell_type": "markdown",
   "id": "suffering-money",
   "metadata": {
    "slideshow": {
     "slide_type": "slide"
    }
   },
   "source": [
    "A *simple graph* is a graph where:\n",
    "\n",
    "1. There is at most one edge between each pair of nodes\n",
    "2. No edge between a node and itself (self-loops)\n",
    "3. All edges are *undirected*\n",
    "\n",
    "![simple and non-simple graphs](fig/simplegraph.gif)"
   ]
  },
  {
   "cell_type": "markdown",
   "id": "satisfactory-temple",
   "metadata": {
    "slideshow": {
     "slide_type": "slide"
    }
   },
   "source": [
    "- Examples of graphs\n",
    "    - Zachary’s Karate club\n",
    "    - Twitter, the internet etc.\n",
    "    - recommender systems\n",
    "    - molecular pathways\n",
    "    - chemical structures\n",
    "- Definition of graphs: nodes, edges, directed vs undirected. Simple vs non-simple.\n",
    "- Adjacency matrix for\n",
    "    - Undirected matrices (symmetric)\n",
    "    - Directed matrices (non symmetric)\n",
    "    - Weighted edges"
   ]
  },
  {
   "cell_type": "markdown",
   "id": "hundred-standing",
   "metadata": {
    "slideshow": {
     "slide_type": "slide"
    }
   },
   "source": [
    "# Multi-Relational Graphs\n",
    "\n",
    "Multi-relational graphs \n",
    "- Graphs with different types of edges\n",
    "- Example: drug-drug interaction. Different edges correspond to different side effects\n",
    "\n",
    "![Example of multi-relational graph](fig/decagon.png)\n",
    "- One adjacency matrix per edge type -> adjacency tensor"
   ]
  },
  {
   "cell_type": "markdown",
   "id": "arabic-quilt",
   "metadata": {
    "slideshow": {
     "slide_type": "slide"
    }
   },
   "source": [
    "# Multi-Relational Graphs: Special Cases\n",
    "\n",
    "## Heterogeneous Graphs\n",
    "\n",
    "- Nodes can also have *types*\n",
    "- Nodes can be partitioned into disjoint sets $\\mathcal{V_1},\\mathcal{V_2}, \\ldots, \\mathcal{V_k}$\n",
    "- $\\mathcal{V} = \\mathcal{V_1} \\cup \\mathcal{V_2} \\cup \\ldots \\cup \\mathcal{V_k}$\n",
    "- $\\mathcal{V_i} \\cap \\mathcal{V_j} = \\emptyset,\\quad \\forall i \\neq j$\n",
    "- Possible constraints: nodes of one type interact with nodes of other types\n",
    "- Example: molecules targeting proteins"
   ]
  },
  {
   "cell_type": "code",
   "execution_count": 5,
   "id": "split-portugal",
   "metadata": {
    "slideshow": {
     "slide_type": "slide"
    }
   },
   "outputs": [
    {
     "data": {
      "text/html": [
       "<div id=\"5664b8b026122634\"></div>\n",
       "    <script type=\"text/javascript\">\n",
       "        $(function(){\n",
       "            var p = $(\"#5664b8b026122634\");\n",
       "            if (p.length==0) return;\n",
       "            while (!p.hasClass(\"cell\")) {\n",
       "                p=p.parent();\n",
       "                if (p.prop(\"tagName\") ==\"body\") return;\n",
       "            }\n",
       "            var cell = p;\n",
       "            cell.find(\".input\").addClass(\"hide-in-slideshow\")\n",
       "        });\n",
       "    </script>"
      ]
     },
     "metadata": {},
     "output_type": "display_data"
    },
    {
     "data": {
      "image/png": "[encoded data removed]",
      "text/plain": [
       "<Figure size 360x360 with 1 Axes>"
      ]
     },
     "metadata": {},
     "output_type": "display_data"
    }
   ],
   "source": [
    "hide_code_in_slideshow()\n",
    "subset_sizes = [5, 4]\n",
    "subset_color = [\"gold\", \"violet\"]\n",
    "G = multilayered_graph(*subset_sizes)\n",
    "color = [subset_color[data[\"layer\"]] for v, data in G.nodes(data=True)]\n",
    "pos = nx.multipartite_layout(G, subset_key=\"layer\")\n",
    "plt.figure(figsize=(5, 5))\n",
    "nx.draw(G, pos, node_color=color, with_labels=False)\n",
    "plt.axis(\"equal\")\n",
    "plt.show()"
   ]
  },
  {
   "cell_type": "markdown",
   "id": "apart-default",
   "metadata": {
    "slideshow": {
     "slide_type": "slide"
    }
   },
   "source": [
    "# Multi-Relational Graphs: Special Cases\n",
    "\n",
    "- a) Multilayer network: each layer contains its own network\n",
    "- b) Multiplex netork are a special case of multilayer network, where nodes represent the same entities in each layer\n",
    "\n",
    "![](fig/multilayerplex.png)"
   ]
  },
  {
   "cell_type": "markdown",
   "id": "saved-arizona",
   "metadata": {},
   "source": [
    "## Machine Learning on Graphs\n",
    "\n",
    "### Node Classification\n",
    "\n",
    "An example of node classification is predicting whether a user on a social network is a bot or not. We can build a graph with the nodes indicating the users and the edges indicating their connection. We can associate features to either/or the nodes and the edges. It may seem that node classification is just a straightforward variant of supervised classification. However graph data are not *independently and identically distributed (i.i.d)*. This is not true for nodes in a graph, and in fact some of the most successful node classification approaches explicitly leverage the connections between nodes. Examples are *homophily* where neighbors tend to share the same features, or *heterophily* where nodes of a type tend to create connections with nodes of a different type.\n",
    "\n",
    "## Relation prediction\n",
    "\n",
    "## Clustering and community detection\n",
    "\n",
    "## Graph classification, regression and clustering"
   ]
  },
  {
   "cell_type": "markdown",
   "id": "ranking-thong",
   "metadata": {},
   "source": []
  }
 ],
 "metadata": {
  "kernelspec": {
   "display_name": "Python 3",
   "language": "python",
   "name": "python3"
  },
  "language_info": {
   "codemirror_mode": {
    "name": "ipython",
    "version": 3
   },
   "file_extension": ".py",
   "mimetype": "text/x-python",
   "name": "python",
   "nbconvert_exporter": "python",
   "pygments_lexer": "ipython3",
   "version": "3.8.6"
  },
  "toc-showtags": false
 },
 "nbformat": 4,
 "nbformat_minor": 5
}
