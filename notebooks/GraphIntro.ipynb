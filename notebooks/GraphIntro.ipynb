{
 "cells": [
  {
   "cell_type": "markdown",
   "id": "apart-ireland",
   "metadata": {
    "slideshow": {
     "slide_type": "slide"
    }
   },
   "source": [
    "# A (Very) Basic Introduction to Graph Learning\n",
    "\n",
    "2021-01-XX\n",
    "\n",
    "Giovanni d'Ario"
   ]
  },
  {
   "cell_type": "code",
   "execution_count": 4,
   "id": "organized-spiritual",
   "metadata": {},
   "outputs": [],
   "source": [
    "import itertools\n",
    "import matplotlib.pyplot as plt\n",
    "import networkx as nx\n",
    "from networkx.utils import pairwise\n",
    "\n",
    "def hide_code_in_slideshow():   \n",
    "    from IPython import display\n",
    "    import binascii\n",
    "    import os\n",
    "    uid = binascii.hexlify(os.urandom(8)).decode()    \n",
    "    html = \"\"\"<div id=\"%s\"></div>\n",
    "    <script type=\"text/javascript\">\n",
    "        $(function(){\n",
    "            var p = $(\"#%s\");\n",
    "            if (p.length==0) return;\n",
    "            while (!p.hasClass(\"cell\")) {\n",
    "                p=p.parent();\n",
    "                if (p.prop(\"tagName\") ==\"body\") return;\n",
    "            }\n",
    "            var cell = p;\n",
    "            cell.find(\".input\").addClass(\"hide-in-slideshow\")\n",
    "        });\n",
    "    </script>\"\"\" % (uid, uid)\n",
    "    display.display_html(html, raw=True)\n",
    "    \n",
    "def multilayered_graph(*subset_sizes):\n",
    "    extents = pairwise(itertools.accumulate((0,) + subset_sizes))\n",
    "    layers = [range(start, end) for start, end in extents]\n",
    "    G = nx.Graph()\n",
    "    for (i, layer) in enumerate(layers):\n",
    "        G.add_nodes_from(layer, layer=i)\n",
    "    for layer1, layer2 in pairwise(layers):\n",
    "        G.add_edges_from(itertools.product(layer1, layer2))\n",
    "    return G"
   ]
  },
  {
   "cell_type": "markdown",
   "id": "residential-windows",
   "metadata": {
    "slideshow": {
     "slide_type": "slide"
    }
   },
   "source": [
    "# Contents\n",
    "\n",
    "- Basic definitions\n",
    "- PUT HERE AN INTRO TO THE BASIC IDEAS OF MESSAGE PASSING\n",
    "- Bronstein’s “Deep Learning on Graphs: successes, challenges etc”\n",
    "- Bronstein’s Expressive power of GNNs"
   ]
  },
  {
   "cell_type": "markdown",
   "id": "satisfactory-temple",
   "metadata": {
    "slideshow": {
     "slide_type": "slide"
    }
   },
   "source": [
    "# Basic Definitions\n",
    "\n",
    "- Examples of graphs\n",
    "    - Zachary’s Karate club\n",
    "    - Twitter, the internet etc.\n",
    "    - recommender systems\n",
    "    - molecular pathways\n",
    "    - chemical structures\n",
    "- Definition of graphs: nodes, edges, directed vs undirected. Simple vs non-simple.\n",
    "- Adjacency matrix for\n",
    "    - Undirected matrices (symmetric)\n",
    "    - Directed matrices (non symmetric)\n",
    "    - Weighted edges"
   ]
  },
  {
   "cell_type": "markdown",
   "id": "hundred-standing",
   "metadata": {
    "slideshow": {
     "slide_type": "slide"
    }
   },
   "source": [
    "# Multi-Relational Graphs\n",
    "\n",
    "- Graphs with different types of edges\n",
    "- Example: drug-drug interaction. Different edges correspond to different side effects (PUT IMAGE FROM DECAGON HERE)\n",
    "- One adjacency matrix per edge type -> adjacency tensor"
   ]
  },
  {
   "cell_type": "markdown",
   "id": "arabic-quilt",
   "metadata": {
    "slideshow": {
     "slide_type": "slide"
    }
   },
   "source": [
    "# Multi-Relational Graphs: Special Cases\n",
    "\n",
    "## Heterogeneous Graphs\n",
    "\n",
    "- Nodes can also have *types*\n",
    "- Nodes can be partitioned into disjoint sets $\\mathcal{V_1},\\mathcal{V_2}, \\ldots, \\mathcal{V_k}$\n",
    "- $\\mathcal{V} = \\mathcal{V_1} \\cup \\mathcal{V_2} \\cup \\ldots \\cup \\mathcal{V_k}$\n",
    "- $\\mathcal{V_i} \\cap \\mathcal{V_j} = \\emptyset,\\quad \\forall i \\neq j$\n",
    "- Possible constraints: nodes of one type interact with nodes of other types\n",
    "- Example: molecules targeting proteins"
   ]
  },
  {
   "cell_type": "code",
   "execution_count": 5,
   "id": "split-portugal",
   "metadata": {
    "slideshow": {
     "slide_type": "slide"
    }
   },
   "outputs": [
    {
     "data": {
      "text/html": [
       "<div id=\"5664b8b026122634\"></div>\n",
       "    <script type=\"text/javascript\">\n",
       "        $(function(){\n",
       "            var p = $(\"#5664b8b026122634\");\n",
       "            if (p.length==0) return;\n",
       "            while (!p.hasClass(\"cell\")) {\n",
       "                p=p.parent();\n",
       "                if (p.prop(\"tagName\") ==\"body\") return;\n",
       "            }\n",
       "            var cell = p;\n",
       "            cell.find(\".input\").addClass(\"hide-in-slideshow\")\n",
       "        });\n",
       "    </script>"
      ]
     },
     "metadata": {},
     "output_type": "display_data"
    },
    {
     "data": {
      "image/png": "[encoded data removed]",
      "text/plain": [
       "<Figure size 360x360 with 1 Axes>"
      ]
     },
     "metadata": {},
     "output_type": "display_data"
    }
   ],
   "source": [
    "hide_code_in_slideshow()\n",
    "subset_sizes = [5, 4]\n",
    "subset_color = [\"gold\", \"violet\"]\n",
    "G = multilayered_graph(*subset_sizes)\n",
    "color = [subset_color[data[\"layer\"]] for v, data in G.nodes(data=True)]\n",
    "pos = nx.multipartite_layout(G, subset_key=\"layer\")\n",
    "plt.figure(figsize=(5, 5))\n",
    "nx.draw(G, pos, node_color=color, with_labels=False)\n",
    "plt.axis(\"equal\")\n",
    "plt.show()"
   ]
  },
  {
   "cell_type": "markdown",
   "id": "apart-default",
   "metadata": {
    "slideshow": {
     "slide_type": "slide"
    }
   },
   "source": [
    "# Multi-Relational Graphs: Special Cases\n",
    "\n",
    "- a) Multilayer network: each layer contains its own network\n",
    "- b) Multiplex netork are a special case of multilayer network, where nodes represent the same entities in each layer\n",
    "\n",
    "![](fig/multilayerplex.png)"
   ]
  },
  {
   "cell_type": "markdown",
   "id": "saved-arizona",
   "metadata": {},
   "source": [
    "## Machine Learning Goals on Graphs\n",
    "\n",
    "PUT HERE EXAMPLES OF\n",
    "\n",
    "1. Node classification\n",
    "2. Relation prediction\n",
    "3. Clustering and community detection\n",
    "4. Graph classification, regression and clustering"
   ]
  },
  {
   "cell_type": "code",
   "execution_count": null,
   "id": "global-hunger",
   "metadata": {},
   "outputs": [],
   "source": []
  }
 ],
 "metadata": {
  "kernelspec": {
   "display_name": "Python 3",
   "language": "python",
   "name": "python3"
  },
  "language_info": {
   "codemirror_mode": {
    "name": "ipython",
    "version": 3
   },
   "file_extension": ".py",
   "mimetype": "text/x-python",
   "name": "python",
   "nbconvert_exporter": "python",
   "pygments_lexer": "ipython3",
   "version": "3.8.6"
  },
  "toc-showtags": false
 },
 "nbformat": 4,
 "nbformat_minor": 5
}
